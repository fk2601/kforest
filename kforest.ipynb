{
 "cells": [
  {
   "cell_type": "code",
   "execution_count": 537,
   "metadata": {},
   "outputs": [],
   "source": [
    "%config IPCompleter.greedy=True\n",
    "from queue import *"
   ]
  },
  {
   "cell_type": "code",
   "execution_count": 538,
   "metadata": {},
   "outputs": [],
   "source": [
    "class IndependentSet():\n",
    "    def __init__(self, g):\n",
    "        self.G = Graph(g.order())\n",
    "\n",
    "    def I(self):\n",
    "        return self.G.edges()"
   ]
  },
  {
   "cell_type": "code",
   "execution_count": 539,
   "metadata": {},
   "outputs": [],
   "source": [
    "# https://medium.com/100-days-of-algorithms/day-41-union-find-d0027148376d\n",
    "def find(data, i):\n",
    "    if i != data[i]:\n",
    "        data[i] = find(data, data[i])\n",
    "    return data[i]\n",
    "\n",
    "def union(data, i, j):\n",
    "    pi, pj = find(data, i), find(data, j)\n",
    "    if pi != pj:\n",
    "        data[pi] = pj"
   ]
  },
  {
   "cell_type": "code",
   "execution_count": 540,
   "metadata": {},
   "outputs": [],
   "source": [
    "def rootTree(self, root, treenumber, I):\n",
    "    d = DiGraph()\n",
    "    q = Queue()\n",
    "    q.put(root)\n",
    "    levelordernumber = 0\n",
    "    \n",
    "    while not q.empty():\n",
    "        v = q.get()\n",
    "        levelordernumber += 1\n",
    "        I.Levelordernumbers[v] = levelordernumber\n",
    "        I.Visited[v] = True\n",
    "        I.Treenumbers[v] = treenumber\n",
    "        \n",
    "        for n in self.neighbor_iterator(v):\n",
    "            if not I.Visited[n]:\n",
    "                d.add_edge(v,n)\n",
    "                q.put(n)\n",
    "                \n",
    "    return d\n",
    "        \n",
    "Graph.rootTree = rootTree"
   ]
  },
  {
   "cell_type": "code",
   "execution_count": 541,
   "metadata": {},
   "outputs": [],
   "source": [
    "def c_graphic((a,b), I):\n",
    "    if I.Treenumbers[a] != I.Treenumbers[b]:\n",
    "        return None\n",
    "    \n",
    "    cycle = []\n",
    "    tree = I.Trees[I.Treenumbers[a]]\n",
    "    while a != b:\n",
    "        node = a if I.Levelordernumbers[a] > I.Levelordernumbers[b] else b\n",
    "        parent = tree.neighbors_in(node)[0]\n",
    "        if find(I.Disjointsets, parent) != find(I.Disjointsets, node):\n",
    "            cycle.append((parent, node))\n",
    "            union(I.Disjointsets, parent, node)\n",
    "        if I.Levelordernumbers[a] > I.Levelordernumbers[b]:\n",
    "            a = parent\n",
    "        else:\n",
    "            b = parent\n",
    "    \n",
    "    return cycle"
   ]
  },
  {
   "cell_type": "code",
   "execution_count": 542,
   "metadata": {},
   "outputs": [],
   "source": [
    "def start_graphic(Is):\n",
    "    for I in Is:\n",
    "        I.Treenumbers = [0] * I.G.order()\n",
    "        I.Trees = list()\n",
    "        I.Levelordernumbers = [0] * I.G.order()\n",
    "        I.Visited = [False] * I.G.order()\n",
    "        I.Disjointsets = [i for i in range(I.G.order())]\n",
    "        components = I.G.connected_components_subgraphs()\n",
    "        for idx, c in enumerate(components):\n",
    "            rootedTree = c.rootTree(c.vertices()[0], idx, I)\n",
    "            I.Trees.append(rootedTree)"
   ]
  },
  {
   "cell_type": "code",
   "execution_count": 543,
   "metadata": {},
   "outputs": [],
   "source": [
    "def cyclic_scanning(es, k, labels, Is, c):\n",
    "    q = Queue()\n",
    "    map(q.put, es)\n",
    "    while not q.empty():\n",
    "        e = q.get()\n",
    "        (_,i) = labels[e]\n",
    "        i = (i + 1) % k\n",
    "        cycle = c(e, Is[i])\n",
    "        if cycle == None:\n",
    "            return ((e,i), labels)\n",
    "        for f in cycle:\n",
    "            labels[f] = (e, i)\n",
    "            q.put(f)\n",
    "    return (None, labels)"
   ]
  },
  {
   "cell_type": "code",
   "execution_count": 544,
   "metadata": {},
   "outputs": [],
   "source": [
    "def k_forest(g, k, start, c):\n",
    "    Is = [IndependentSet(g) for i in range(k)]\n",
    "    \n",
    "    removedEdges = []\n",
    "    for v in filter(lambda v: g.degree(v) <= k, g.vertices()):\n",
    "        for idx, e in enumerate(g.edges_incident([v], labels = False)):\n",
    "            removedEdges.append(e + (idx,))\n",
    "        g.delete_vertex(v)\n",
    "  \n",
    "    start(Is)\n",
    "    label = None\n",
    "    for e in g.edges(labels = False):\n",
    "        labels = {}\n",
    "        labels[e] = (e,-1)\n",
    "        if label != None:\n",
    "            start(Is)\n",
    "        (label, labels) = cyclic_scanning([e], k, labels, Is, c)\n",
    "        if label != None:\n",
    "            (f,i) = label\n",
    "            while i != -1:\n",
    "                Is[i].G.add_edge(f + (i,))\n",
    "                if f != e:\n",
    "                    i = (i - 1) % k\n",
    "                    Is[i].G.delete_edge(f + (i,))\n",
    "                (f,i) = labels[f]\n",
    "    \n",
    "    for (a, b, idx) in removedEdges:\n",
    "        Is[idx].G.add_edge((a, b, idx))\n",
    "        g.add_edge((a, b, idx))  \n",
    "        \n",
    "    return Is"
   ]
  },
  {
   "cell_type": "code",
   "execution_count": 545,
   "metadata": {},
   "outputs": [],
   "source": [
    "def top_clump(g, k, start, c):\n",
    "    L = []\n",
    "    B = []\n",
    "    Is = k_forest(g, k, start, c)\n",
    "    for i in range(k):\n",
    "        B += Is[i].I()\n",
    "    for e in B:\n",
    "        start(Is)\n",
    "        labels = {}\n",
    "        labels[e[:2]] = (e,-1)\n",
    "        (label, labels) = cyclic_scanning([e[:2]], k, labels, Is, c)\n",
    "        if label == None:\n",
    "            L.append(e)\n",
    "    return L"
   ]
  },
  {
   "cell_type": "code",
   "execution_count": 546,
   "metadata": {},
   "outputs": [
    {
     "name": "stdout",
     "output_type": "stream",
     "text": [
      "14\n"
     ]
    },
    {
     "data": {
      "image/png": "[encoded data removed]",
      "text/plain": [
       "Graphics object consisting of 24 graphics primitives"
      ]
     },
     "metadata": {},
     "output_type": "display_data"
    },
    {
     "name": "stdout",
     "output_type": "stream",
     "text": [
      "13\n"
     ]
    },
    {
     "data": {
      "image/png": "[encoded data removed]",
      "text/plain": [
       "Graphics object consisting of 24 graphics primitives"
      ]
     },
     "metadata": {},
     "output_type": "display_data"
    }
   ],
   "source": [
    "graph = Graph(8) #Graph({0: [1], 1: [2,3], 3: [4,5]})\n",
    "graph.add_edge(0,1)\n",
    "graph.add_edge(0,2)\n",
    "graph.add_edge(1,2)\n",
    "graph.add_edge(2,3)\n",
    "graph.add_edge(1,3)\n",
    "graph.add_edge(3,6)\n",
    "graph.add_edge(3,4)\n",
    "graph.add_edge(3,5)\n",
    "graph.add_edge(3,7)\n",
    "graph.add_edge(4,5)\n",
    "graph.add_edge(5,7)\n",
    "graph.add_edge(4,6)\n",
    "graph.add_edge(5,6)\n",
    "graph.add_edge(7,6)\n",
    "pos = {0:[0.0, 0.0], 1:[1.0, 1.0], 2:[1.0, -1.0], 3:[2.0, 0.0], 4:[2.8, 0.1], 5:[3.2, -0.3], 6:[4.0, 1.0], 7:[4.0, -1.0]}\n",
    "\n",
    "#graph = graphs.CycleGraph(9)\n",
    "#pos = graph.layout().copy()\n",
    "\n",
    "#graph = graphs.PoussinGraph()\n",
    "#pos = graph.layout()\n",
    "\n",
    "#graph = graphs.FruchtGraph()\n",
    "#pos = graph.layout()\n",
    "\n",
    "#graph = graphs.GoldnerHararyGraph()\n",
    "#graph.delete_edge((1,3,None))\n",
    "#pos = graph.layout()\n",
    "\n",
    "#graph = graphs.HerschelGraph()\n",
    "#pos = graph.layout()\n",
    "\n",
    "#graph = graphs.WienerArayaGraph()\n",
    "#pos = graph.layout()\n",
    "\n",
    "print (len(graph.edges()))\n",
    "p = graph.plot(vertex_labels=True, graph_border=True, pos=pos)\n",
    "p.show()\n",
    "\n",
    "Is = k_forest(graph, 2, start_graphic, c_graphic)\n",
    "l1 = Is[0].I()\n",
    "l2 = Is[1].I()\n",
    "l = l1 + l2\n",
    "print(len(l))\n",
    "res1 = set(map(lambda x: x[:2], graph.edges()))\n",
    "res2 = set(map(lambda x: x[:2], l))\n",
    "res = res1.difference(res2)\n",
    "r = map(lambda x: x + (-1,), list(res))\n",
    "output = Graph(4)\n",
    "output.add_edges(r + l)\n",
    "pp = output.plot(vertex_labels=True, graph_border=True, color_by_label={0:(1,0,0), 1:(0,1,0)}, pos=pos)\n",
    "pp.show()"
   ]
  },
  {
   "cell_type": "code",
   "execution_count": 547,
   "metadata": {},
   "outputs": [
    {
     "name": "stdout",
     "output_type": "stream",
     "text": [
      "8\n"
     ]
    },
    {
     "data": {
      "image/png": "[encoded data removed]",
      "text/plain": [
       "Graphics object consisting of 24 graphics primitives"
      ]
     },
     "metadata": {},
     "output_type": "display_data"
    }
   ],
   "source": [
    "L = top_clump(graph, 2, start_graphic, c_graphic)\n",
    "print(len(L))\n",
    "res1 = set(map(lambda x: x[:2], graph.edges()))\n",
    "res2 = set(map(lambda x: x[:2], L))\n",
    "res = res1.difference(res2)\n",
    "r = map(lambda x: x + (-1,), list(res))\n",
    "gg = Graph({})\n",
    "gg.add_edges(r + L)\n",
    "p = gg.plot(vertex_labels=True, graph_border=True, color_by_label={0:(1,0,0), 1:(0,1,0)}, pos=pos)\n",
    "p.show()"
   ]
  },
  {
   "cell_type": "code",
   "execution_count": 548,
   "metadata": {},
   "outputs": [
    {
     "data": {
      "image/png": "[encoded data removed]",
      "text/plain": [
       "Graphics object consisting of 10 graphics primitives"
      ]
     },
     "metadata": {},
     "output_type": "display_data"
    },
    {
     "name": "stdout",
     "output_type": "stream",
     "text": [
      "5\n"
     ]
    },
    {
     "data": {
      "image/png": "[encoded data removed]",
      "text/plain": [
       "Graphics object consisting of 11 graphics primitives"
      ]
     },
     "metadata": {},
     "output_type": "display_data"
    }
   ],
   "source": [
    "g4 = Graph(4) #Graph({0: [1], 1: [2,3], 3: [4,5]})\n",
    "g4.add_edge(0,1, 100)\n",
    "g4.add_edge(0,2, 100)\n",
    "g4.add_edge(0,3, 1)\n",
    "g4.add_edge(2,3, 100)\n",
    "g4.add_edge(1,3, 1)\n",
    "g4.weighted(True)\n",
    "pos = {0:[0.0, 0.0], 1:[1.0, 1.0], 2:[1.0, -1.0], 3:[2.0, 0.0]}\n",
    "p = g4.plot(pos = pos)\n",
    "p.show()\n",
    "Is = k_forest(g4, 2, start_graphic, c_graphic)\n",
    "l1 = Is[0].I()\n",
    "l2 = Is[1].I()\n",
    "l = l1 + l2\n",
    "print(len(l))\n",
    "res1 = set(map(lambda x: x[:2], g4.edges()))\n",
    "res2 = set(map(lambda x: x[:2], l))\n",
    "res = res1.difference(res2)\n",
    "r = map(lambda x: x + (-1,), list(res))\n",
    "output = Graph(4)\n",
    "output.add_edges(r + l)\n",
    "pp = output.plot(vertex_labels=True, graph_border=True, color_by_label={0:(1,0,0), 1:(0,1,0)}, pos=pos)\n",
    "pp.show()"
   ]
  },
  {
   "cell_type": "code",
   "execution_count": 483,
   "metadata": {},
   "outputs": [
    {
     "data": {
      "text/plain": [
       "[2, [(0, 3, 1), (1, 3, 1)]]"
      ]
     },
     "execution_count": 483,
     "metadata": {},
     "output_type": "execute_result"
    }
   ],
   "source": [
    "graph.delete_edge((2,3,100))\n",
    "graph.edge_cut(2,3, value_only=False, use_edge_labels = True)"
   ]
  },
  {
   "cell_type": "code",
   "execution_count": 522,
   "metadata": {},
   "outputs": [],
   "source": [
    "def start_dual(Is):\n",
    "    for I in Is:\n",
    "        I.Treenumbers = [0] * I.G.order()\n",
    "        I.Trees = list()\n",
    "        I.Levelordernumbers = [0] * I.G.order()\n",
    "        I.Visited = [False] * I.G.order()\n",
    "        I.Disjointsets = [i for i in range(I.G.order())]\n",
    "        components = I.G.connected_components_subgraphs()\n",
    "        for idx, c in enumerate(components):\n",
    "            rootedTree = c.rootTree(c.vertices()[0], idx, I)\n",
    "            I.Trees.append(rootedTree)"
   ]
  },
  {
   "cell_type": "code",
   "execution_count": 535,
   "metadata": {},
   "outputs": [],
   "source": [
    "def top_clump_dual(g, k, start, c, start_dual, c_dual):\n",
    "    L = []\n",
    "    B = []\n",
    "    A = []\n",
    "    Is = k_forest(g, k, start, c)\n",
    "    start(Is)\n",
    "    for i in range(k):\n",
    "        for e in Is[i].I():\n",
    "            for j in range(i + 1, i + k):\n",
    "                j = j % k\n",
    "                if c(e[:2], Is[j]) == None:\n",
    "                    A.append(e)\n",
    "                    break\n",
    "    start_dual(Is)\n",
    "    (label, labels) = cyclic_scanning(A, k, {}, Is, c_dual)\n",
    "    return L"
   ]
  },
  {
   "cell_type": "code",
   "execution_count": 536,
   "metadata": {},
   "outputs": [
    {
     "ename": "TypeError",
     "evalue": "unhashable type: 'list'",
     "output_type": "error",
     "traceback": [
      "\u001b[0;31m---------------------------------------------------------------------------\u001b[0m",
      "\u001b[0;31mTypeError\u001b[0m                                 Traceback (most recent call last)",
      "\u001b[0;32m<ipython-input-536-f758e3c6af0d>\u001b[0m in \u001b[0;36m<module>\u001b[0;34m()\u001b[0m\n\u001b[0;32m----> 1\u001b[0;31m \u001b[0mA\u001b[0m \u001b[0;34m=\u001b[0m \u001b[0mtop_clump_dual\u001b[0m\u001b[0;34m(\u001b[0m\u001b[0mg4\u001b[0m\u001b[0;34m,\u001b[0m \u001b[0mInteger\u001b[0m\u001b[0;34m(\u001b[0m\u001b[0;36m2\u001b[0m\u001b[0;34m)\u001b[0m\u001b[0;34m,\u001b[0m \u001b[0mstart_graphic\u001b[0m\u001b[0;34m,\u001b[0m \u001b[0mc_graphic\u001b[0m\u001b[0;34m,\u001b[0m \u001b[0mstart_dual\u001b[0m\u001b[0;34m,\u001b[0m \u001b[0mNone\u001b[0m\u001b[0;34m)\u001b[0m\u001b[0;34m\u001b[0m\u001b[0m\n\u001b[0m\u001b[1;32m      2\u001b[0m \u001b[0;32mprint\u001b[0m \u001b[0;34m(\u001b[0m\u001b[0mA\u001b[0m\u001b[0;34m)\u001b[0m\u001b[0;34m\u001b[0m\u001b[0m\n",
      "\u001b[0;32m<ipython-input-535-3a80d3bf5ef4>\u001b[0m in \u001b[0;36mtop_clump_dual\u001b[0;34m(g, k, start, c, start_dual, c_dual)\u001b[0m\n\u001b[1;32m     13\u001b[0m                     \u001b[0;32mbreak\u001b[0m\u001b[0;34m\u001b[0m\u001b[0m\n\u001b[1;32m     14\u001b[0m     \u001b[0mstart_dual\u001b[0m\u001b[0;34m(\u001b[0m\u001b[0mIs\u001b[0m\u001b[0;34m)\u001b[0m\u001b[0;34m\u001b[0m\u001b[0m\n\u001b[0;32m---> 15\u001b[0;31m     \u001b[0;34m(\u001b[0m\u001b[0mlabel\u001b[0m\u001b[0;34m,\u001b[0m \u001b[0mlabels\u001b[0m\u001b[0;34m)\u001b[0m \u001b[0;34m=\u001b[0m \u001b[0mcyclic_scanning\u001b[0m\u001b[0;34m(\u001b[0m\u001b[0mA\u001b[0m\u001b[0;34m,\u001b[0m \u001b[0mk\u001b[0m\u001b[0;34m,\u001b[0m \u001b[0;34m{\u001b[0m\u001b[0;34m}\u001b[0m\u001b[0;34m,\u001b[0m \u001b[0mIs\u001b[0m\u001b[0;34m,\u001b[0m \u001b[0mc_dual\u001b[0m\u001b[0;34m)\u001b[0m\u001b[0;34m\u001b[0m\u001b[0m\n\u001b[0m\u001b[1;32m     16\u001b[0m     \u001b[0;32mreturn\u001b[0m \u001b[0mL\u001b[0m\u001b[0;34m\u001b[0m\u001b[0m\n",
      "\u001b[0;32m<ipython-input-490-c7aa0e38f885>\u001b[0m in \u001b[0;36mcyclic_scanning\u001b[0;34m(e, k, labels, Is, c)\u001b[0m\n\u001b[1;32m      4\u001b[0m     \u001b[0;32mwhile\u001b[0m \u001b[0;32mnot\u001b[0m \u001b[0mq\u001b[0m\u001b[0;34m.\u001b[0m\u001b[0mempty\u001b[0m\u001b[0;34m(\u001b[0m\u001b[0;34m)\u001b[0m\u001b[0;34m:\u001b[0m\u001b[0;34m\u001b[0m\u001b[0m\n\u001b[1;32m      5\u001b[0m         \u001b[0me\u001b[0m \u001b[0;34m=\u001b[0m \u001b[0mq\u001b[0m\u001b[0;34m.\u001b[0m\u001b[0mget\u001b[0m\u001b[0;34m(\u001b[0m\u001b[0;34m)\u001b[0m\u001b[0;34m\u001b[0m\u001b[0m\n\u001b[0;32m----> 6\u001b[0;31m         \u001b[0;34m(\u001b[0m\u001b[0m_\u001b[0m\u001b[0;34m,\u001b[0m\u001b[0mi\u001b[0m\u001b[0;34m)\u001b[0m \u001b[0;34m=\u001b[0m \u001b[0mlabels\u001b[0m\u001b[0;34m[\u001b[0m\u001b[0me\u001b[0m\u001b[0;34m]\u001b[0m\u001b[0;34m\u001b[0m\u001b[0m\n\u001b[0m\u001b[1;32m      7\u001b[0m         \u001b[0mi\u001b[0m \u001b[0;34m=\u001b[0m \u001b[0;34m(\u001b[0m\u001b[0mi\u001b[0m \u001b[0;34m+\u001b[0m \u001b[0mInteger\u001b[0m\u001b[0;34m(\u001b[0m\u001b[0;36m1\u001b[0m\u001b[0;34m)\u001b[0m\u001b[0;34m)\u001b[0m \u001b[0;34m%\u001b[0m \u001b[0mk\u001b[0m\u001b[0;34m\u001b[0m\u001b[0m\n\u001b[1;32m      8\u001b[0m         \u001b[0mcycle\u001b[0m \u001b[0;34m=\u001b[0m \u001b[0mc\u001b[0m\u001b[0;34m(\u001b[0m\u001b[0me\u001b[0m\u001b[0;34m,\u001b[0m \u001b[0mIs\u001b[0m\u001b[0;34m[\u001b[0m\u001b[0mi\u001b[0m\u001b[0;34m]\u001b[0m\u001b[0;34m)\u001b[0m\u001b[0;34m\u001b[0m\u001b[0m\n",
      "\u001b[0;31mTypeError\u001b[0m: unhashable type: 'list'"
     ]
    }
   ],
   "source": [
    "A = top_clump_dual(g4, 2, start_graphic, c_graphic, start_dual, None)\n",
    "print (A)"
   ]
  },
  {
   "cell_type": "code",
   "execution_count": null,
   "metadata": {},
   "outputs": [],
   "source": []
  }
 ],
 "metadata": {
  "kernelspec": {
   "display_name": "SageMath 8.4",
   "language": "",
   "name": "sagemath"
  },
  "language_info": {
   "codemirror_mode": {
    "name": "ipython",
    "version": 2
   },
   "file_extension": ".py",
   "mimetype": "text/x-python",
   "name": "python",
   "nbconvert_exporter": "python",
   "pygments_lexer": "ipython2",
   "version": "2.7.15"
  }
 },
 "nbformat": 4,
 "nbformat_minor": 2
}
