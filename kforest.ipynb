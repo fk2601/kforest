{
 "cells": [
  {
   "cell_type": "code",
   "execution_count": 31,
   "metadata": {},
   "outputs": [],
   "source": [
    "%config IPCompleter.greedy=True\n",
    "from queue import *\n",
    "import sys"
   ]
  },
  {
   "cell_type": "code",
   "execution_count": 32,
   "metadata": {},
   "outputs": [],
   "source": [
    "disjointsets = []\n",
    "disjointpreclumps = []\n",
    "\n",
    "class IndependentSet():\n",
    "    def __init__(self, g):\n",
    "        self.G = g\n",
    "        self.Forest = Graph(g.order())\n",
    "\n",
    "    def I(self):\n",
    "        return self.Forest.edges()"
   ]
  },
  {
   "cell_type": "code",
   "execution_count": 33,
   "metadata": {},
   "outputs": [],
   "source": [
    "# https://medium.com/100-days-of-algorithms/day-41-union-find-d0027148376d\n",
    "def find(data, i):\n",
    "    if i != data[i]:\n",
    "        data[i] = find(data, data[i])\n",
    "    return data[i]\n",
    "\n",
    "def union(data, i, j):\n",
    "    pi, pj = find(data, i), find(data, j)\n",
    "    if pi != pj:\n",
    "        data[pi] = pj"
   ]
  },
  {
   "cell_type": "code",
   "execution_count": 34,
   "metadata": {},
   "outputs": [],
   "source": [
    "def rootTree(self, root, I):\n",
    "    d = DiGraph()\n",
    "    q = Queue()\n",
    "    q.put(root)\n",
    "    levelordernumber = 0\n",
    "    \n",
    "    while not q.empty():\n",
    "        v = q.get()\n",
    "        levelordernumber += 1\n",
    "        I.Levelordernumbers[v] = levelordernumber\n",
    "        I.Visited[v] = True\n",
    "        I.Treenumbers[v] = root\n",
    "        \n",
    "        for n in self.neighbor_iterator(v):\n",
    "            if not I.Visited[n]:\n",
    "                d.add_edge(v,n)\n",
    "                q.put(n)\n",
    "                \n",
    "    return d\n",
    "        \n",
    "Graph.rootTree = rootTree"
   ]
  },
  {
   "cell_type": "code",
   "execution_count": 174,
   "metadata": {},
   "outputs": [],
   "source": [
    "def c_graphic((a,b), I):\n",
    "    if I.Treenumbers[a] != I.Treenumbers[b]:\n",
    "        return None\n",
    "    \n",
    "    global disjointsets\n",
    "    cycle = []\n",
    "    tree = I.Trees[I.Treenumbers[a]]\n",
    "    while a != b:\n",
    "        node = a if I.Levelordernumbers[a] > I.Levelordernumbers[b] else b\n",
    "        parent = tree.neighbors_in(node)[0]\n",
    "        #print (\"node: \" + str(node))\n",
    "        #print (\"parent: \" + str(parent))\n",
    "        if find(disjointsets, parent) != find(disjointsets, node):\n",
    "            #print (\"cycle append\")\n",
    "            cycle.append((parent,node) if parent < node else (node,parent))\n",
    "            union(disjointsets, parent, node)\n",
    "        if I.Levelordernumbers[a] > I.Levelordernumbers[b]:\n",
    "            a = parent\n",
    "        else:\n",
    "            b = parent\n",
    "    \n",
    "    return cycle"
   ]
  },
  {
   "cell_type": "code",
   "execution_count": 175,
   "metadata": {},
   "outputs": [],
   "source": [
    "def start_graphic(Is):\n",
    "    global disjointsets\n",
    "    disjointsets = [i for i in range(Is[0].Forest.order())]\n",
    "    for I in Is:\n",
    "        I.Treenumbers = [0] * I.Forest.order()\n",
    "        I.Trees = [DiGraph() for i in range(Is[0].Forest.order())]\n",
    "        I.Levelordernumbers = [0] * I.Forest.order()\n",
    "        I.Visited = [False] * I.Forest.order()\n",
    "        components = I.Forest.connected_components_subgraphs()\n",
    "        for c in components:\n",
    "            root = c.vertices()[0]\n",
    "            rootedTree = c.rootTree(root, I)\n",
    "            I.Trees[root] = rootedTree"
   ]
  },
  {
   "cell_type": "code",
   "execution_count": 176,
   "metadata": {},
   "outputs": [],
   "source": [
    "def cyclic_scanning(e, k, labels, Is, c):\n",
    "    q = Queue()\n",
    "    q.put(e)\n",
    "    while not q.empty():\n",
    "        e = q.get()\n",
    "        (_,i) = labels[e]\n",
    "        i = (i + 1) % k\n",
    "        cycle = c(e, Is[i])\n",
    "        #print (\"cycle \" + str(i))\n",
    "        #print (cycle)\n",
    "        if cycle == None:\n",
    "            return ((e,i), labels)\n",
    "        for f in cycle:\n",
    "            labels[f] = (e, i)\n",
    "            q.put(f)\n",
    "    return (None, labels)"
   ]
  },
  {
   "cell_type": "code",
   "execution_count": 177,
   "metadata": {},
   "outputs": [],
   "source": [
    "def update_partitioned_independentset(Is, k, label, labels):\n",
    "    if label != None:\n",
    "        (f,i) = label\n",
    "        while i != -1:\n",
    "            Is[i].Forest.add_edge(f + (i,))\n",
    "            if f != e:\n",
    "                i = (i - 1) % k\n",
    "                Is[i].Forest.delete_edge(f + (i,))\n",
    "            (f,i) = labels[f]"
   ]
  },
  {
   "cell_type": "code",
   "execution_count": 178,
   "metadata": {},
   "outputs": [],
   "source": [
    "def k_forest(g, k, start, c):\n",
    "    Is = [IndependentSet(g) for i in range(k)]\n",
    "    \n",
    "    removedEdges = []\n",
    "    for v in filter(lambda v: g.degree(v) <= k, g.vertices()):\n",
    "        for idx, e in enumerate(g.edges_incident([v], labels = False)):\n",
    "            removedEdges.append(e + (idx,))\n",
    "        g.delete_vertex(v)\n",
    "    \n",
    "    start(Is)\n",
    "    \n",
    "    label = None\n",
    "    for e in g.edges(labels = False):\n",
    "        labels = {}\n",
    "        labels[e] = (e,-1)\n",
    "        if label != None:\n",
    "            start(Is)\n",
    "        (label, labels) = cyclic_scanning(e, k, labels, Is, c)\n",
    "        update_partitioned_independentset(Is, k, label, labels)\n",
    "    \n",
    "    for (a, b, idx) in removedEdges:\n",
    "        Is[idx].Forest.add_edge((a, b, idx))\n",
    "        g.add_edge((a, b))  \n",
    "        \n",
    "    return Is"
   ]
  },
  {
   "cell_type": "code",
   "execution_count": 179,
   "metadata": {},
   "outputs": [],
   "source": [
    "def top_clump(Is, start, c):\n",
    "    L = []\n",
    "    B = sum([I.I() for I in Is], [])\n",
    "    for e in B:\n",
    "        start(Is)\n",
    "        labels = {}\n",
    "        labels[e[:2]] = (e,-1)\n",
    "        (label, labels) = cyclic_scanning(e[:2], len(Is), labels, Is, c)\n",
    "        if label == None:\n",
    "            L.append(e)\n",
    "    return L"
   ]
  },
  {
   "cell_type": "code",
   "execution_count": 180,
   "metadata": {},
   "outputs": [],
   "source": [
    "def c_dual((a,b), I):\n",
    "    global disjointsets\n",
    "    cycle = []\n",
    "    mincut = I.G.edge_cut(a, b, value_only=False, use_edge_labels = True)[1]\n",
    "    mincut = [(x,y) for (x,y,_) in mincut if (x,y) in I.J]\n",
    "    if mincut == []:\n",
    "        return None\n",
    "    for (a,b) in mincut:\n",
    "        if find(disjointsets, a) != find(disjointsets, b):\n",
    "            cycle.append((a, b))\n",
    "            union(disjointsets, a, b)\n",
    "    return cycle"
   ]
  },
  {
   "cell_type": "code",
   "execution_count": 181,
   "metadata": {},
   "outputs": [],
   "source": [
    "def start_dual(Is):\n",
    "    global disjointsets\n",
    "    disjointsets = [i for i in range(Is[0].Forest.order())]\n",
    "    m = Matroid(Is[0].G)\n",
    "    for I in Is:\n",
    "        span = m.closure([e[:2] for e in I.Forest.edges()])\n",
    "        forest_edges = map(lambda z: z[:2], I.Forest.edges())\n",
    "        I.J = [(x,y) for (x,y) in span if (x,y) not in forest_edges]"
   ]
  },
  {
   "cell_type": "code",
   "execution_count": 182,
   "metadata": {},
   "outputs": [],
   "source": [
    "def top_clump_dual(Is, start, c, start_dual, c_dual):\n",
    "    A = []\n",
    "    B = sum([I.I() for I in Is], [])\n",
    "    k = len(Is)\n",
    "    start(Is)\n",
    "    for i in range(k):\n",
    "        for e in Is[i].I():\n",
    "            for j in range(i + 1, i + k):\n",
    "                j = j % k\n",
    "                if c(e[:2], Is[j]) == None:\n",
    "                    A.append(e[:2])\n",
    "                    break\n",
    "    start_dual(Is)\n",
    "    labels = {}\n",
    "    for e in A: labels[e] = (e,-1)\n",
    "    for e in A: (label, labels) = cyclic_scanning(e, k, labels, Is, c_dual)\n",
    "    return filter(lambda x: x[:2] not in labels.keys(), B)"
   ]
  },
  {
   "cell_type": "code",
   "execution_count": 183,
   "metadata": {},
   "outputs": [
    {
     "name": "stdout",
     "output_type": "stream",
     "text": [
      "14\n",
      "13\n"
     ]
    },
    {
     "data": {
      "image/png": "[encoded data removed]",
      "text/plain": [
       "Graphics object consisting of 24 graphics primitives"
      ]
     },
     "metadata": {},
     "output_type": "display_data"
    }
   ],
   "source": [
    "graph = Graph(8) #Graph({0: [1], 1: [2,3], 3: [4,5]})\n",
    "graph.add_edge(0,1)\n",
    "graph.add_edge(0,2)\n",
    "graph.add_edge(1,2)\n",
    "graph.add_edge(2,3)\n",
    "graph.add_edge(1,3)\n",
    "graph.add_edge(3,6)\n",
    "graph.add_edge(3,4)\n",
    "graph.add_edge(3,5)\n",
    "graph.add_edge(3,7)\n",
    "graph.add_edge(4,5)\n",
    "graph.add_edge(5,7)\n",
    "graph.add_edge(4,6)\n",
    "graph.add_edge(5,6)\n",
    "graph.add_edge(7,6)\n",
    "pos = {0:[0.0, 0.0], 1:[1.0, 1.0], 2:[1.0, -1.0], 3:[2.0, 0.0], 4:[2.8, 0.1], 5:[3.2, -0.3], 6:[4.0, 1.0], 7:[4.0, -1.0]}\n",
    "\n",
    "\n",
    "#graph = Graph(4) #Graph({0: [1], 1: [2,3], 3: [4,5]})\n",
    "#graph.add_edge(0,1)\n",
    "#graph.add_edge(0,2)\n",
    "#graph.add_edge(0,3)\n",
    "#graph.add_edge(2,3)\n",
    "#graph.add_edge(1,3)\n",
    "#pos = {0:[0.0, 0.0], 1:[1.0, 1.0], 2:[1.0, -1.0], 3:[2.0, 0.0]}\n",
    "\n",
    "#graph = graphs.CycleGraph(9)\n",
    "#pos = graph.layout().copy()\n",
    "\n",
    "#graph = graphs.PoussinGraph()\n",
    "#pos = graph.layout()\n",
    "\n",
    "#graph = graphs.FruchtGraph()\n",
    "#pos = graph.layout()\n",
    "\n",
    "#graph = graphs.GoldnerHararyGraph()\n",
    "#graph.delete_edge((1,3,None))\n",
    "#pos = graph.layout()\n",
    "\n",
    "#graph = graphs.HerschelGraph()\n",
    "#pos = graph.layout()\n",
    "\n",
    "#graph = graphs.WienerArayaGraph()\n",
    "#pos = graph.layout()\n",
    "\n",
    "#graph = graphs.CompleteGraph(5)\n",
    "#pos = graph.layout()\n",
    "\n",
    "graph.weighted(True)\n",
    "\n",
    "print (len(graph.edges()))\n",
    "p = graph.plot(vertex_labels=True, graph_border=True, pos=pos)\n",
    "#p.show()\n",
    "\n",
    "Is = k_forest(graph, 2, start_graphic, c_graphic)\n",
    "l1 = Is[0].I()\n",
    "l2 = Is[1].I()\n",
    "l = l1 + l2\n",
    "print(len(l))\n",
    "res1 = set(map(lambda x: x[:2], graph.edges()))\n",
    "res2 = set(map(lambda x: x[:2], l))\n",
    "res = res1.difference(res2)\n",
    "r = map(lambda x: x + (-1,), list(res))\n",
    "output = Graph(4)\n",
    "output.add_edges(r + l)\n",
    "pp = output.plot(vertex_labels=True, graph_border=True, color_by_label={0:(1,0,0), 1:(0,1,0)}, pos=pos)\n",
    "pp.show()"
   ]
  },
  {
   "cell_type": "code",
   "execution_count": 184,
   "metadata": {},
   "outputs": [
    {
     "name": "stdout",
     "output_type": "stream",
     "text": [
      "8\n"
     ]
    },
    {
     "data": {
      "image/png": "[encoded data removed]",
      "text/plain": [
       "Graphics object consisting of 24 graphics primitives"
      ]
     },
     "metadata": {},
     "output_type": "display_data"
    }
   ],
   "source": [
    "\n",
    "L = top_clump(Is, start_graphic, c_graphic)\n",
    "print(len(L))\n",
    "res1 = set(map(lambda x: x[:2], graph.edges()))\n",
    "res2 = set(map(lambda x: x[:2], L))\n",
    "res = res1.difference(res2)\n",
    "r = map(lambda x: x + (-1,), list(res))\n",
    "gg = Graph({})\n",
    "gg.add_edges(r + L)\n",
    "p = gg.plot(vertex_labels=True, graph_border=True, color_by_label={0:(1,0,0), 1:(0,1,0)}, pos=pos)\n",
    "p.show()"
   ]
  },
  {
   "cell_type": "code",
   "execution_count": 185,
   "metadata": {},
   "outputs": [
    {
     "name": "stdout",
     "output_type": "stream",
     "text": [
      "8\n"
     ]
    },
    {
     "data": {
      "image/png": "[encoded data removed]",
      "text/plain": [
       "Graphics object consisting of 24 graphics primitives"
      ]
     },
     "metadata": {},
     "output_type": "display_data"
    }
   ],
   "source": [
    "L = top_clump_dual(Is, start_graphic, c_graphic, start_dual, c_dual)\n",
    "print(len(L))\n",
    "res1 = set(map(lambda x: x[:2], graph.edges()))\n",
    "res2 = set(map(lambda x: x[:2], L))\n",
    "res = res1.difference(res2)\n",
    "r = map(lambda x: x + (-1,), list(res))\n",
    "ggg = Graph({})\n",
    "ggg.add_edges(r + L)\n",
    "p = ggg.plot(vertex_labels=True, graph_border=True, color_by_label={0:(1,0,0), 1:(0,1,0)}, pos=pos)\n",
    "p.show()\n"
   ]
  },
  {
   "cell_type": "code",
   "execution_count": 212,
   "metadata": {},
   "outputs": [
    {
     "data": {
      "image/png": "[encoded data removed]",
      "text/plain": [
       "Graphics object consisting of 8 graphics primitives"
      ]
     },
     "execution_count": 212,
     "metadata": {},
     "output_type": "execute_result"
    }
   ],
   "source": [
    "g = Graph(4)\n",
    "#g.add_edge(0,1)\n",
    "#g.add_edge(0,3)\n",
    "#g.add_edge(1,2)\n",
    "#g.add_edge(0,2)\n",
    "#g.add_edge(2,3)\n",
    "\n",
    "g.add_edge(0,1)\n",
    "g.add_edge(1,2)\n",
    "g.add_edge(2,3)\n",
    "\n",
    "\n",
    "#print (g.vertices())\n",
    "#y = map(lambda x: x[:2], g.edges())\n",
    "#z = map(lambda x: x + (-2,), list(y))\n",
    "#print (z)\n",
    "#print (g.edges())\n",
    "g.plot()\n",
    "#print(graph.edges())\n",
    "#x = graph.edge_cut(0, 1, value_only=False, use_edge_labels = True)[1]\n",
    "#print(x)\n",
    "#w = [(a,b) for (a,b,_) in x if (a,b) not in [(0,1)]]\n",
    "#print(w)"
   ]
  },
  {
   "cell_type": "code",
   "execution_count": 213,
   "metadata": {},
   "outputs": [],
   "source": [
    "def is_generic_independent(g):\n",
    "    if len(g.edges()) <= 2 * len(g.vertices()) - 3:\n",
    "        Is = k_forest(g, 2, start_graphic, c_graphic)\n",
    "        if sum([len(I.I()) for I in Is]) == len(g.edges()):\n",
    "            if not top_clump(Is, start_graphic, c_graphic):\n",
    "                return True\n",
    "    return False"
   ]
  },
  {
   "cell_type": "code",
   "execution_count": 214,
   "metadata": {},
   "outputs": [
    {
     "name": "stdout",
     "output_type": "stream",
     "text": [
      "False\n"
     ]
    }
   ],
   "source": [
    "r = is_generic_independent(graph)\n",
    "print (r)"
   ]
  },
  {
   "cell_type": "code",
   "execution_count": 215,
   "metadata": {},
   "outputs": [],
   "source": [
    "def preclump_test_step(Is, (u,v)):\n",
    "    global disjointpreclumps\n",
    "    global edgeindices\n",
    "    \n",
    "    for I in Is:\n",
    "        preclumpset1 = set()\n",
    "        preclumpset2 = set()\n",
    "        forest = I.Forest\n",
    "        for neighbor in forest.neighbors(u):\n",
    "            edgeIdx = edgeindices[(neighbor,u) if neighbor < u else (u,neighbor)]\n",
    "            preclumpset1.add(find(disjointpreclumps, edgeIdx))\n",
    "\n",
    "        for neighbor in forest.neighbors(v):\n",
    "            edgeIdx = edgeindices[(neighbor,v) if neighbor < v else (v,neighbor)]\n",
    "            preclumpset2.add(find(disjointpreclumps, edgeIdx))\n",
    "            \n",
    "        if preclumpset1 & preclumpset2 != set(): return true\n",
    "    return false"
   ]
  },
  {
   "cell_type": "code",
   "execution_count": 216,
   "metadata": {},
   "outputs": [],
   "source": [
    "def degrees_of_freedom(g):\n",
    "    global disjointpreclumps\n",
    "    global edgeindices\n",
    "    \n",
    "    k = 2\n",
    "    disjointpreclumps = [i for i in range(len(g.edges()))]\n",
    "    edgeindices = { e : idx for idx, e in enumerate(g.edges(labels = False)) }\n",
    "    print (edgeindices)\n",
    "    Is = [IndependentSet(g) for i in range(k)]\n",
    "    #print (Is[0].Trees)\n",
    "    for e in g.edges(labels = False):\n",
    "        start_graphic(Is)\n",
    "        # Preclump test step\n",
    "        if preclump_test_step(Is, e): \n",
    "            print (\"preclump test step\")\n",
    "            continue         \n",
    "        \n",
    "        # Independence Test Step\n",
    "        labels = {}\n",
    "        labels[e] = (e,-1)\n",
    "        \n",
    "        (label, labels) = cyclic_scanning(e, k, labels, Is, c_graphic)\n",
    "        update_partitioned_independentset(Is, k, label, labels)\n",
    "        \n",
    "        if label != None:\n",
    "            #print (\"B + e ist unabhängig\")\n",
    "            start_graphic(Is)\n",
    "            #print (Is[0].I())\n",
    "            #print (Is[1].I())\n",
    "            labels2 = {}\n",
    "            labels2[e] = (e,-1)\n",
    "            (label2, labels2) = cyclic_scanning(e, k, labels2, Is, c_graphic)\n",
    "            \n",
    "            if label2 != None:\n",
    "                #print (\"continue\")\n",
    "                continue\n",
    "            \n",
    "            print(\"New Preclump Step\")\n",
    "            print (e)\n",
    "            (f,i) = label\n",
    "            while i != -1:\n",
    "                Is[i].Forest.delete_edge(f + (i,))\n",
    "                if f != e:\n",
    "                    i = (i - 1) % k\n",
    "                    Is[i].Forest.add_edge(f + (i,))\n",
    "                (f,i) = labels[f]\n",
    "                \n",
    "            print (Is[0].I())\n",
    "            print (Is[1].I())\n",
    "                \n",
    "            print(\"Merge edge partitions\")\n",
    "            fundamental_circuit = labels2.keys()\n",
    "            fundamental_circuit.remove(e)\n",
    "            for i in range(len(fundamental_circuit) - 1):\n",
    "                union(disjointpreclumps, edgeindices[fundamental_circuit[i]], edgeindices[fundamental_circuit[i + 1]])\n",
    "                print (disjointpreclumps)\n",
    "        \n",
    "    return 2 * g.order() - 3 - len(Is[0].I()) - len(Is[1].I())"
   ]
  },
  {
   "cell_type": "code",
   "execution_count": 218,
   "metadata": {},
   "outputs": [
    {
     "data": {
      "image/png": "[encoded data removed]",
      "text/plain": [
       "Graphics object consisting of 16 graphics primitives"
      ]
     },
     "execution_count": 218,
     "metadata": {},
     "output_type": "execute_result"
    }
   ],
   "source": [
    "gg = Graph(6)\n",
    "gg.add_edge(0,1)\n",
    "gg.add_edge(1,2)\n",
    "gg.add_edge(2,3)\n",
    "gg.add_edge(3,0)\n",
    "gg.add_edge(0,4)\n",
    "gg.add_edge(1,4)\n",
    "gg.add_edge(2,5)\n",
    "gg.add_edge(3,5)\n",
    "gg.add_edge(4,5)\n",
    "\n",
    "gg.plot()"
   ]
  },
  {
   "cell_type": "code",
   "execution_count": 219,
   "metadata": {},
   "outputs": [
    {
     "name": "stdout",
     "output_type": "stream",
     "text": [
      "{(0, 1): 0, (1, 2): 3, (4, 5): 8, (1, 4): 4, (2, 3): 5, (0, 4): 2, (0, 3): 1, (2, 5): 6, (3, 5): 7}\n"
     ]
    },
    {
     "data": {
      "text/plain": [
       "0"
      ]
     },
     "execution_count": 219,
     "metadata": {},
     "output_type": "execute_result"
    }
   ],
   "source": [
    "degrees_of_freedom(gg)"
   ]
  },
  {
   "cell_type": "code",
   "execution_count": null,
   "metadata": {},
   "outputs": [],
   "source": []
  }
 ],
 "metadata": {
  "kernelspec": {
   "display_name": "SageMath 8.4",
   "language": "",
   "name": "sagemath"
  },
  "language_info": {
   "codemirror_mode": {
    "name": "ipython",
    "version": 2
   },
   "file_extension": ".py",
   "mimetype": "text/x-python",
   "name": "python",
   "nbconvert_exporter": "python",
   "pygments_lexer": "ipython2",
   "version": "2.7.15"
  }
 },
 "nbformat": 4,
 "nbformat_minor": 2
}
