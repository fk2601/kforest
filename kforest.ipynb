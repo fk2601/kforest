{
 "cells": [
  {
   "cell_type": "code",
   "execution_count": 14,
   "metadata": {},
   "outputs": [],
   "source": [
    "%config IPCompleter.greedy=True"
   ]
  },
  {
   "cell_type": "code",
   "execution_count": 2,
   "metadata": {},
   "outputs": [
    {
     "data": {
      "image/png": "[encoded data removed]",
      "text/plain": [
       "Graphics object consisting of 6 graphics primitives"
      ]
     },
     "metadata": {},
     "output_type": "display_data"
    }
   ],
   "source": [
    "#g = graphs.CycleGraph(4)\n",
    "g = Graph(3) #Graph({0: [1], 1: [2,3], 3: [4,5]})\n",
    "g.add_edge(0,1)\n",
    "g.add_edge(0,2)\n",
    "#d = g.to_directed()\n",
    "#list(g.breadth_first_search(0))\n",
    "#g.vertices()[0]\n",
    "show(g)\n",
    "treenumbers = [0] * g.order()\n",
    "levelordernumbers = [0] * g.order()\n",
    "visited = [False] * g.order()\n",
    "disjointsets = [0] * g.order()\n",
    "trees = list()\n",
    "\n"
   ]
  },
  {
   "cell_type": "code",
   "execution_count": 19,
   "metadata": {},
   "outputs": [
    {
     "data": {
      "text/plain": [
       "<built-in method basis of GraphicMatroid object at 0x7fb852de0600>"
      ]
     },
     "execution_count": 19,
     "metadata": {},
     "output_type": "execute_result"
    }
   ],
   "source": [
    "m = Matroid(g)\n",
    "m.\n",
    "m.basis"
   ]
  },
  {
   "cell_type": "code",
   "execution_count": 1,
   "metadata": {},
   "outputs": [],
   "source": [
    "class IndependentSet():\n",
    "    def __init__(self, g):\n",
    "        self.G = Graph(g.order())\n",
    "        self.Treenumbers = [0] * g.order()\n",
    "        self.Trees = list()\n",
    "        self.Levelordernumbers = [0] * g.order()\n",
    "        self.Visited = [False] * g.order()\n",
    "        self.Disjointsets = [0] * g.order()\n",
    "    def I(self):\n",
    "        self.G.edges()"
   ]
  },
  {
   "cell_type": "code",
   "execution_count": 86,
   "metadata": {},
   "outputs": [],
   "source": [
    "# https://medium.com/100-days-of-algorithms/day-41-union-find-d0027148376d\n",
    "def find(data, i):\n",
    "    if i != data[i]:\n",
    "        data[i] = find(data, data[i])\n",
    "    return data[i]\n",
    "\n",
    "def union(data, i, j):\n",
    "    pi, pj = find(data, i), find(data, j)\n",
    "    if pi != pj:\n",
    "        data[pi] = pj"
   ]
  },
  {
   "cell_type": "code",
   "execution_count": 87,
   "metadata": {},
   "outputs": [
    {
     "name": "stdout",
     "output_type": "stream",
     "text": [
      "frozenset([(0, 1), (0, 2)])\n"
     ]
    }
   ],
   "source": [
    "iterator = m.bases()\n",
    "for i in iterator:\n",
    "    print(i)"
   ]
  },
  {
   "cell_type": "code",
   "execution_count": 88,
   "metadata": {},
   "outputs": [],
   "source": [
    "from queue import *\n",
    "\n",
    "def rootTree(self, root, treenumber):\n",
    "    d = DiGraph()\n",
    "    q = Queue()\n",
    "    q.put(root)\n",
    "    levelordernumber = 0\n",
    "    \n",
    "    while not q.empty():\n",
    "        v = q.get()\n",
    "        levelordernumber += 1\n",
    "        levelordernumbers[v] = levelordernumber\n",
    "        visited[v] = True\n",
    "        treenumbers[v] = treenumber\n",
    "        neighborIterator = self.neighbor_iterator(v)\n",
    "        for n in neighborIterator:\n",
    "            if not visited[n]:\n",
    "                d.add_edge(v,n)\n",
    "                q.put(n)\n",
    "                \n",
    "    return d\n",
    "        \n",
    "Graph.rootTree = rootTree"
   ]
  },
  {
   "cell_type": "code",
   "execution_count": 89,
   "metadata": {},
   "outputs": [],
   "source": [
    "def c((a,b), independentSet):\n",
    "    if treenumbers[a] != treenumbers[b]:\n",
    "        return None\n",
    "    \n",
    "    cycle = list()\n",
    "    tree = trees[treenumbers[a]]\n",
    "    \n",
    "    while levelordernumbers[a] != levelordernumbers[b]:\n",
    "        if levelordernumbers[a] > levelordernumbers[b]:\n",
    "            parent = tree.neighbors_in(a)[0]\n",
    "            if find(disjointsets, parent) != find(disjointsets, a):\n",
    "                cycle.append((parent, a))\n",
    "                union(disjointsets, parent, a)\n",
    "            a = parent\n",
    "        else:\n",
    "            parent = tree.neighbors_in(b)[0]\n",
    "            if find(disjointsets, parent) != find(disjointsets, b):\n",
    "                cycle.append((parent, b))\n",
    "                union(disjointsets, parent, b)\n",
    "            b = parent\n",
    "    \n",
    "    \n",
    "    show(tree)\n",
    "    return cycle"
   ]
  },
  {
   "cell_type": "code",
   "execution_count": 90,
   "metadata": {},
   "outputs": [],
   "source": [
    "def start():\n",
    "    global disjointsets\n",
    "    disjointsets = [i for i in range(g.order())]\n",
    "    components = g.connected_components_subgraphs()\n",
    "    for idx, c in enumerate(components):\n",
    "        trees.append(c.rootTree(c.vertices()[0], idx))"
   ]
  },
  {
   "cell_type": "code",
   "execution_count": 7,
   "metadata": {},
   "outputs": [],
   "source": [
    "def kforest(G, k):\n",
    "    I = [IndependentSet(G) for i in range(k)]\n",
    "    print(I)"
   ]
  },
  {
   "cell_type": "code",
   "execution_count": 8,
   "metadata": {},
   "outputs": [
    {
     "name": "stdout",
     "output_type": "stream",
     "text": [
      "[<__main__.IndependentSet instance at 0x7fb8159d0488>, <__main__.IndependentSet instance at 0x7fb8159d07e8>]\n"
     ]
    }
   ],
   "source": [
    "kforest(g, 2)"
   ]
  },
  {
   "cell_type": "code",
   "execution_count": null,
   "metadata": {},
   "outputs": [],
   "source": []
  },
  {
   "cell_type": "code",
   "execution_count": 91,
   "metadata": {},
   "outputs": [
    {
     "data": {
      "text/plain": [
       "[1, 2, 3]"
      ]
     },
     "execution_count": 91,
     "metadata": {},
     "output_type": "execute_result"
    }
   ],
   "source": [
    "start()\n",
    "levelordernumbers\n",
    "#treenumbers"
   ]
  },
  {
   "cell_type": "code",
   "execution_count": 93,
   "metadata": {},
   "outputs": [
    {
     "data": {
      "image/png": "[encoded data removed]",
      "text/plain": [
       "Graphics object consisting of 6 graphics primitives"
      ]
     },
     "metadata": {},
     "output_type": "display_data"
    },
    {
     "data": {
      "text/plain": [
       "[]"
      ]
     },
     "execution_count": 93,
     "metadata": {},
     "output_type": "execute_result"
    }
   ],
   "source": [
    "c((1,2))"
   ]
  },
  {
   "cell_type": "code",
   "execution_count": null,
   "metadata": {},
   "outputs": [],
   "source": []
  }
 ],
 "metadata": {
  "kernelspec": {
   "display_name": "SageMath 8.4",
   "language": "",
   "name": "sagemath"
  },
  "language_info": {
   "codemirror_mode": {
    "name": "ipython",
    "version": 2
   },
   "file_extension": ".py",
   "mimetype": "text/x-python",
   "name": "python",
   "nbconvert_exporter": "python",
   "pygments_lexer": "ipython2",
   "version": "2.7.15"
  }
 },
 "nbformat": 4,
 "nbformat_minor": 2
}
