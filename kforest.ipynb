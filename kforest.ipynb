{
 "cells": [
  {
   "cell_type": "code",
   "execution_count": 14,
   "metadata": {},
   "outputs": [],
   "source": [
    "%config IPCompleter.greedy=True\n",
    "from queue import *"
   ]
  },
  {
   "cell_type": "code",
   "execution_count": 204,
   "metadata": {},
   "outputs": [],
   "source": [
    "#g = graphs.CycleGraph(4)\n",
    "g = Graph(3) #Graph({0: [1], 1: [2,3], 3: [4,5]})\n",
    "g.add_edge(0,1)\n",
    "g.add_edge(0,2)\n",
    "g.add_edge(1,2)\n",
    "\n",
    "#d = g.to_directed()\n",
    "#list(g.breadth_first_search(0))\n",
    "#g.vertices()[0]\n",
    "#show(g)\n",
    "\n"
   ]
  },
  {
   "cell_type": "code",
   "execution_count": 205,
   "metadata": {},
   "outputs": [
    {
     "name": "stdout",
     "output_type": "stream",
     "text": [
      "frozenset([(0, 1), (1, 2)])\n",
      "frozenset([(0, 1), (0, 2)])\n",
      "frozenset([(1, 2), (0, 2)])\n"
     ]
    }
   ],
   "source": [
    "m = Matroid(g)\n",
    "m.basis\n",
    "iterator = m.bases()\n",
    "for i in iterator:\n",
    "    print(i)"
   ]
  },
  {
   "cell_type": "code",
   "execution_count": 206,
   "metadata": {},
   "outputs": [],
   "source": [
    "class IndependentSet():\n",
    "    def __init__(self, g):\n",
    "        self.G = Graph(g.order())\n",
    "\n",
    "    def I(self):\n",
    "        return self.G.edges()"
   ]
  },
  {
   "cell_type": "code",
   "execution_count": 207,
   "metadata": {},
   "outputs": [],
   "source": [
    "# https://medium.com/100-days-of-algorithms/day-41-union-find-d0027148376d\n",
    "def find(data, i):\n",
    "    if i != data[i]:\n",
    "        data[i] = find(data, data[i])\n",
    "    return data[i]\n",
    "\n",
    "def union(data, i, j):\n",
    "    pi, pj = find(data, i), find(data, j)\n",
    "    if pi != pj:\n",
    "        data[pi] = pj"
   ]
  },
  {
   "cell_type": "code",
   "execution_count": 208,
   "metadata": {},
   "outputs": [],
   "source": [
    "def rootTree(self, root, treenumber, I):\n",
    "    d = DiGraph()\n",
    "    q = Queue()\n",
    "    q.put(root)\n",
    "    levelordernumber = 0\n",
    "    \n",
    "    while not q.empty():\n",
    "        v = q.get()\n",
    "        levelordernumber += 1\n",
    "        I.Levelordernumbers[v] = levelordernumber\n",
    "        I.Visited[v] = True\n",
    "        I.Treenumbers[v] = treenumber\n",
    "        \n",
    "        for n in self.neighbor_iterator(v):\n",
    "            if not I.Visited[n]:\n",
    "                d.add_edge(v,n)\n",
    "                q.put(n)\n",
    "                \n",
    "    return d\n",
    "        \n",
    "Graph.rootTree = rootTree"
   ]
  },
  {
   "cell_type": "code",
   "execution_count": 209,
   "metadata": {},
   "outputs": [],
   "source": [
    "def c((a,b,_), I):\n",
    "    if I.Treenumbers[a] != I.Treenumbers[b]:\n",
    "        return None\n",
    "    \n",
    "    cycle = []\n",
    "    tree = I.Trees[I.Treenumbers[a]]\n",
    "    while a != b:\n",
    "        if I.Levelordernumbers[a] > I.Levelordernumbers[b]:\n",
    "            parent = tree.neighbors_in(a)[0]\n",
    "            if find(I.Disjointsets, parent) != find(I.Disjointsets, a):\n",
    "                cycle.append((parent, a, None))\n",
    "                union(I.Disjointsets, parent, a)\n",
    "            a = parent\n",
    "        else:\n",
    "            parent = tree.neighbors_in(b)[0]\n",
    "            if find(I.Disjointsets, parent) != find(I.Disjointsets, b):\n",
    "                cycle.append((parent, b, None))\n",
    "                union(I.Disjointsets, parent, b)\n",
    "            b = parent\n",
    "    \n",
    "    #show(tree)\n",
    "    return cycle"
   ]
  },
  {
   "cell_type": "code",
   "execution_count": 210,
   "metadata": {},
   "outputs": [],
   "source": [
    "def start(Is):\n",
    "    for I in Is:\n",
    "        I.Treenumbers = [0] * g.order()\n",
    "        I.Trees = list()\n",
    "        I.Levelordernumbers = [0] * g.order()\n",
    "        I.Visited = [False] * g.order()\n",
    "        I.Disjointsets = [i for i in range(I.G.order())]\n",
    "        components = I.G.connected_components_subgraphs()\n",
    "        for idx, c in enumerate(components):\n",
    "            rootedTree = c.rootTree(c.vertices()[0], idx, I)\n",
    "            I.Trees.append(rootedTree)"
   ]
  },
  {
   "cell_type": "code",
   "execution_count": 211,
   "metadata": {},
   "outputs": [],
   "source": [
    "def cyclic_scanning(e, k, labels, Is):\n",
    "    q = Queue()\n",
    "    q.put(e)\n",
    "    while not q.empty():\n",
    "        e = q.get()\n",
    "        (_,i) = labels[e]\n",
    "        i = (i + 1) % k\n",
    "        cycle = c(e, Is[i])\n",
    "        if cycle == None:\n",
    "            return ((e,i), labels)\n",
    "        for f in cycle:\n",
    "            labels[f] = (e, i)\n",
    "            q.put(f)\n",
    "    return (None, labels)"
   ]
  },
  {
   "cell_type": "code",
   "execution_count": 212,
   "metadata": {},
   "outputs": [],
   "source": [
    "def k_forest(g, k):\n",
    "    Is = [IndependentSet(g) for i in range(k)]\n",
    "    start(Is)\n",
    "    label = None\n",
    "    for e in g.edges():\n",
    "        labels = {}\n",
    "        labels[e] = (e,-1)\n",
    "        if label != None:\n",
    "            start(Is)\n",
    "        (label, labels) = cyclic_scanning(e, k, labels, Is)\n",
    "        if label != None:\n",
    "            (f,i) = label\n",
    "            while i != -1:\n",
    "                Is[i].G.add_edge(f)\n",
    "                if f != e:\n",
    "                    i = (i - 1) % k\n",
    "                    Is[i].G.delete_edge(f)\n",
    "                (f,i) = labels[f]\n",
    "    return Is"
   ]
  },
  {
   "cell_type": "code",
   "execution_count": 213,
   "metadata": {},
   "outputs": [
    {
     "name": "stdout",
     "output_type": "stream",
     "text": [
      "[(0, 1, None), (1, 2, None)]\n",
      "[(0, 2, None)]\n"
     ]
    }
   ],
   "source": [
    "Is = k_forest(g, 2)\n",
    "print(Is[0].I())\n",
    "print(Is[1].I())"
   ]
  },
  {
   "cell_type": "code",
   "execution_count": null,
   "metadata": {},
   "outputs": [],
   "source": []
  }
 ],
 "metadata": {
  "kernelspec": {
   "display_name": "SageMath 8.4",
   "language": "",
   "name": "sagemath"
  },
  "language_info": {
   "codemirror_mode": {
    "name": "ipython",
    "version": 2
   },
   "file_extension": ".py",
   "mimetype": "text/x-python",
   "name": "python",
   "nbconvert_exporter": "python",
   "pygments_lexer": "ipython2",
   "version": "2.7.15"
  }
 },
 "nbformat": 4,
 "nbformat_minor": 2
}
