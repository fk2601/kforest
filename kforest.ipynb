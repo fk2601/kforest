{
 "cells": [
  {
   "cell_type": "code",
   "execution_count": 14,
   "metadata": {},
   "outputs": [],
   "source": [
    "%config IPCompleter.greedy=True"
   ]
  },
  {
   "cell_type": "code",
   "execution_count": 53,
   "metadata": {},
   "outputs": [
    {
     "data": {
      "image/png": "[encoded data removed]",
      "text/plain": [
       "Graphics object consisting of 6 graphics primitives"
      ]
     },
     "metadata": {},
     "output_type": "display_data"
    }
   ],
   "source": [
    "#g = graphs.CycleGraph(4)\n",
    "g = Graph(3) #Graph({0: [1], 1: [2,3], 3: [4,5]})\n",
    "g.add_edge(0,1)\n",
    "g.add_edge(0,2)\n",
    "#d = g.to_directed()\n",
    "#list(g.breadth_first_search(0))\n",
    "#g.vertices()[0]\n",
    "show(g)\n",
    "treenumbers = [0] * g.order()\n",
    "levelordernumbers = [0] * g.order()\n",
    "visited = [False] * g.order()\n",
    "trees = list()\n",
    "\n"
   ]
  },
  {
   "cell_type": "code",
   "execution_count": 19,
   "metadata": {},
   "outputs": [],
   "source": [
    "m = Matroid(g)\n",
    "m.basis"
   ]
  },
  {
   "cell_type": "code",
   "execution_count": 14,
   "metadata": {},
   "outputs": [
    {
     "name": "stdout",
     "output_type": "stream",
     "text": [
      "frozenset([])\n"
     ]
    }
   ],
   "source": [
    "iterator = m.bases()\n",
    "for i in iterator:\n",
    "    print(i)"
   ]
  },
  {
   "cell_type": "code",
   "execution_count": 33,
   "metadata": {},
   "outputs": [],
   "source": [
    "from queue import *\n",
    "\n",
    "def rootTree(self, root, treenumber):\n",
    "    d = DiGraph()\n",
    "    q = Queue()\n",
    "    q.put(root)\n",
    "    levelordernumber = 0\n",
    "    \n",
    "    while not q.empty():\n",
    "        v = q.get()\n",
    "        levelordernumber += 1\n",
    "        levelordernumbers[v] = levelordernumber\n",
    "        visited[v] = True\n",
    "        treenumbers[v] = treenumber\n",
    "        neighborIterator = self.neighbor_iterator(v)\n",
    "        for n in neighborIterator:\n",
    "            if not visited[n]:\n",
    "                d.add_edge(v,n)\n",
    "                q.put(n)\n",
    "                \n",
    "    return d\n",
    "        \n",
    "Graph.rootTree = rootTree"
   ]
  },
  {
   "cell_type": "code",
   "execution_count": 49,
   "metadata": {},
   "outputs": [],
   "source": [
    "def c((a,b)):\n",
    "    if treenumbers[a] != treenumbers[b]:\n",
    "        return None\n",
    "    \n",
    "    cycle = list()\n",
    "    tree = trees[treenumbers[a]]\n",
    "    \n",
    "    while levelordernumbers[a] != levelordernumbers[b]:\n",
    "        if levelordernumbers[a] > levelordernumbers[b]:\n",
    "            parent = tree.neighbors_in(a)[0]\n",
    "            cycle.append((parent, a))\n",
    "            a = parent\n",
    "        else:\n",
    "            parent = tree.neighbors_in(b)[0]\n",
    "            cycle.append((parent, b))\n",
    "            b = parent\n",
    "    \n",
    "    show(tree)\n",
    "    return cycle"
   ]
  },
  {
   "cell_type": "code",
   "execution_count": 50,
   "metadata": {},
   "outputs": [],
   "source": [
    "def start():\n",
    "    components = g.connected_components_subgraphs()\n",
    "    for idx, c in enumerate(components):\n",
    "        trees.append(c.rootTree(c.vertices()[0], idx))"
   ]
  },
  {
   "cell_type": "code",
   "execution_count": 54,
   "metadata": {},
   "outputs": [
    {
     "data": {
      "text/plain": [
       "[1, 2, 3]"
      ]
     },
     "execution_count": 54,
     "metadata": {},
     "output_type": "execute_result"
    }
   ],
   "source": [
    "start()\n",
    "levelordernumbers\n",
    "#treenumbers"
   ]
  },
  {
   "cell_type": "code",
   "execution_count": 55,
   "metadata": {},
   "outputs": [
    {
     "data": {
      "image/png": "[encoded data removed]",
      "text/plain": [
       "Graphics object consisting of 6 graphics primitives"
      ]
     },
     "metadata": {},
     "output_type": "display_data"
    },
    {
     "data": {
      "text/plain": [
       "[(0, 2), (0, 1)]"
      ]
     },
     "execution_count": 55,
     "metadata": {},
     "output_type": "execute_result"
    }
   ],
   "source": [
    "c((1,2))"
   ]
  },
  {
   "cell_type": "code",
   "execution_count": null,
   "metadata": {},
   "outputs": [],
   "source": []
  }
 ],
 "metadata": {
  "kernelspec": {
   "display_name": "SageMath 8.4",
   "language": "",
   "name": "sagemath"
  },
  "language_info": {
   "codemirror_mode": {
    "name": "ipython",
    "version": 2
   },
   "file_extension": ".py",
   "mimetype": "text/x-python",
   "name": "python",
   "nbconvert_exporter": "python",
   "pygments_lexer": "ipython2",
   "version": "2.7.15"
  }
 },
 "nbformat": 4,
 "nbformat_minor": 2
}
